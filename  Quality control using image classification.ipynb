{
  "metadata": {
    "kernelspec": {
      "language": "python",
      "display_name": "Python 3",
      "name": "python3"
    },
    "language_info": {
      "name": "python",
      "version": "3.10.12",
      "mimetype": "text/x-python",
      "codemirror_mode": {
        "name": "ipython",
        "version": 3
      },
      "pygments_lexer": "ipython3",
      "nbconvert_exporter": "python",
      "file_extension": ".py"
    },
    "kaggle": {
      "accelerator": "gpu",
      "dataSources": [
        {
          "sourceId": 5196,
          "sourceType": "datasetVersion",
          "datasetId": 3147
        },
        {
          "sourceId": 34877,
          "sourceType": "datasetVersion",
          "datasetId": 27352
        },
        {
          "sourceId": 76002,
          "sourceType": "datasetVersion",
          "datasetId": 42853
        },
        {
          "sourceId": 242592,
          "sourceType": "datasetVersion",
          "datasetId": 102285
        }
      ],
      "dockerImageVersionId": 30918,
      "isInternetEnabled": true,
      "language": "python",
      "sourceType": "notebook",
      "isGpuEnabled": true
    },
    "colab": {
      "name": "🔢MNIST: CNN Classification",
      "provenance": [],
      "include_colab_link": true
    }
  },
  "nbformat_minor": 0,
  "nbformat": 4,
  "cells": [
    {
      "cell_type": "markdown",
      "metadata": {
        "id": "view-in-github",
        "colab_type": "text"
      },
      "source": [
        "<a href=\"https://colab.research.google.com/github/Sayeed50/Image-Classification/blob/main/%20Quality%20control%20using%20image%20classification.ipynb\" target=\"_parent\"><img src=\"https://colab.research.google.com/assets/colab-badge.svg\" alt=\"Open In Colab\"/></a>"
      ]
    },
    {
      "source": [
        "# IMPORTANT: RUN THIS CELL IN ORDER TO IMPORT YOUR KAGGLE DATA SOURCES,\n",
        "# THEN FEEL FREE TO DELETE THIS CELL.\n",
        "# NOTE: THIS NOTEBOOK ENVIRONMENT DIFFERS FROM KAGGLE'S PYTHON\n",
        "# ENVIRONMENT SO THERE MAY BE MISSING LIBRARIES USED BY YOUR\n",
        "# NOTEBOOK.\n",
        "import kagglehub\n",
        "animatronbot_mnist_digit_recognizer_path = kagglehub.dataset_download('animatronbot/mnist-digit-recognizer')\n",
        "oddrationale_mnist_in_csv_path = kagglehub.dataset_download('oddrationale/mnist-in-csv')\n",
        "avnishnish_mnist_original_path = kagglehub.dataset_download('avnishnish/mnist-original')\n",
        "hojjatk_mnist_dataset_path = kagglehub.dataset_download('hojjatk/mnist-dataset')\n",
        "\n",
        "print('Data source import complete.')\n"
      ],
      "metadata": {
        "id": "rMEcRfXzNpcx"
      },
      "cell_type": "code",
      "outputs": [],
      "execution_count": null
    },
    {
      "cell_type": "markdown",
      "source": [
        "# **Import Necessary Libraries**"
      ],
      "metadata": {
        "id": "olqUgia1Npcz"
      }
    },
    {
      "cell_type": "code",
      "source": [
        "import pandas as pd\n",
        "import numpy as np\n",
        "import seaborn as sns\n",
        "import matplotlib.pyplot as plt\n",
        "\n",
        "import tensorflow as tf\n",
        "from tensorflow.keras.models import Sequential\n",
        "from tensorflow.keras.layers import Dense, Flatten, Dropout, BatchNormalization\n",
        "from tensorflow.keras.layers import Conv2D, MaxPooling2D\n",
        "from tensorflow.keras.optimizers import Adam\n",
        "from tensorflow.keras.callbacks import EarlyStopping\n",
        "from tensorflow.keras.utils import to_categorical, plot_model\n",
        "from tensorflow.keras.preprocessing.image import ImageDataGenerator\n",
        "\n",
        "from sklearn.metrics import classification_report\n",
        "from sklearn.metrics import confusion_matrix\n",
        "\n",
        "import warnings\n",
        "from warnings import filterwarnings\n",
        "warnings.filterwarnings(\"ignore\", category=DeprecationWarning)\n",
        "warnings.filterwarnings(\"ignore\", category=FutureWarning)\n",
        "warnings.filterwarnings(\"ignore\", category=UserWarning)\n",
        "filterwarnings(\"ignore\")"
      ],
      "metadata": {
        "trusted": true,
        "execution": {
          "iopub.status.busy": "2025-03-20T19:20:55.592021Z",
          "iopub.execute_input": "2025-03-20T19:20:55.592324Z",
          "iopub.status.idle": "2025-03-20T19:20:55.599181Z",
          "shell.execute_reply.started": "2025-03-20T19:20:55.5923Z",
          "shell.execute_reply": "2025-03-20T19:20:55.598032Z"
        },
        "id": "rPV3gVjaNpc1"
      },
      "outputs": [],
      "execution_count": null
    },
    {
      "cell_type": "markdown",
      "source": [
        "# **Load the Dataset**"
      ],
      "metadata": {
        "id": "N0dvEO9JNpc3"
      }
    },
    {
      "cell_type": "code",
      "source": [
        "from tensorflow.keras.datasets import mnist\n",
        "from tensorflow.keras.models import load_model\n",
        "\n",
        "(x_train, y_train), (x_test, y_test) = mnist.load_data()"
      ],
      "metadata": {
        "trusted": true,
        "execution": {
          "iopub.status.busy": "2025-03-20T19:20:55.94944Z",
          "iopub.execute_input": "2025-03-20T19:20:55.949759Z",
          "iopub.status.idle": "2025-03-20T19:20:56.217618Z",
          "shell.execute_reply.started": "2025-03-20T19:20:55.949731Z",
          "shell.execute_reply": "2025-03-20T19:20:56.216632Z"
        },
        "id": "9ts8OD2WNpc3"
      },
      "outputs": [],
      "execution_count": null
    },
    {
      "cell_type": "markdown",
      "source": [
        "# **Understand And Organize the Datase**"
      ],
      "metadata": {
        "id": "fc1Qb_5WNpc4"
      }
    },
    {
      "cell_type": "code",
      "source": [
        "# Check data types\n",
        "print(f\"x_train data type: {type(x_train)}\")\n",
        "print(f\"y_train data type: {type(y_train)}\")\n",
        "print(f\"x_test data type: {type(x_test)}\")\n",
        "print(f\"y_test data type: {type(y_test)}\\n\")\n",
        "\n",
        "# Check shapes of the datasets\n",
        "print(f\"x_train shape: {x_train.shape}\")\n",
        "print(f\"y_train shape: {y_train.shape}\")\n",
        "print(f\"x_test shape: {x_test.shape}\")\n",
        "print(f\"y_test shape: {y_test.shape}\\n\")\n",
        "\n",
        "# Check unique values in target variables\n",
        "print(f\"Unique values in y_train: {np.unique(y_train)}\")\n",
        "print(f\"Unique values in y_test: {np.unique(y_test)}\\n\")\n",
        "\n",
        "# Check if there is any missing data\n",
        "print(f\"Any missing values in x_train: {np.any(np.isnan(x_train))}\")\n",
        "print(f\"Any missing values in y_train: {np.any(np.isnan(y_train))}\")\n",
        "print(f\"Any missing values in x_test: {np.any(np.isnan(x_test))}\")\n",
        "print(f\"Any missing values in y_test: {np.any(np.isnan(y_test))}\")"
      ],
      "metadata": {
        "trusted": true,
        "execution": {
          "iopub.status.busy": "2025-03-20T19:20:56.218867Z",
          "iopub.execute_input": "2025-03-20T19:20:56.219184Z",
          "iopub.status.idle": "2025-03-20T19:20:56.241814Z",
          "shell.execute_reply.started": "2025-03-20T19:20:56.219148Z",
          "shell.execute_reply": "2025-03-20T19:20:56.240887Z"
        },
        "id": "8DkJkf-zNpc4"
      },
      "outputs": [],
      "execution_count": null
    },
    {
      "cell_type": "markdown",
      "source": [
        "***How many different label values do we have?***"
      ],
      "metadata": {
        "id": "h2mSuk2-Npc5"
      }
    },
    {
      "cell_type": "code",
      "source": [
        "num_labels = len(np.unique(y_train))\n",
        "num_labels"
      ],
      "metadata": {
        "trusted": true,
        "execution": {
          "iopub.status.busy": "2025-03-20T19:20:56.243459Z",
          "iopub.execute_input": "2025-03-20T19:20:56.243738Z",
          "iopub.status.idle": "2025-03-20T19:20:56.249631Z",
          "shell.execute_reply.started": "2025-03-20T19:20:56.243717Z",
          "shell.execute_reply": "2025-03-20T19:20:56.249047Z"
        },
        "id": "_sTuYpz_Npc6"
      },
      "outputs": [],
      "execution_count": null
    },
    {
      "cell_type": "markdown",
      "source": [
        "## **Frequency Distribution of Target Labels y_train and y_test**"
      ],
      "metadata": {
        "id": "rLnlIUtMNpc6"
      }
    },
    {
      "cell_type": "code",
      "source": [
        "fig, axes = plt.subplots(1, 2, figsize=(15, 6))\n",
        "\n",
        "sns.countplot(x=y_train, palette='gray', ax=axes[0])\n",
        "axes[0].set_title('Frequency Distribution of Target Labels (y_train)')\n",
        "axes[0].set_xlabel('Digit Label')\n",
        "axes[0].set_ylabel('Frequency')\n",
        "\n",
        "sns.countplot(x=y_test, palette='gray', ax=axes[1])\n",
        "axes[1].set_title('Frequency Distribution of Target Labels (y_test)')\n",
        "axes[1].set_xlabel('Digit Label')\n",
        "axes[1].set_ylabel('Frequency')\n",
        "\n",
        "plt.tight_layout()\n",
        "plt.show()"
      ],
      "metadata": {
        "trusted": true,
        "execution": {
          "iopub.status.busy": "2025-03-20T19:20:56.250528Z",
          "iopub.execute_input": "2025-03-20T19:20:56.250825Z",
          "iopub.status.idle": "2025-03-20T19:20:56.633213Z",
          "shell.execute_reply.started": "2025-03-20T19:20:56.250778Z",
          "shell.execute_reply": "2025-03-20T19:20:56.632377Z"
        },
        "id": "Ae1x5gdYNpc6"
      },
      "outputs": [],
      "execution_count": null
    },
    {
      "cell_type": "markdown",
      "source": [
        "## **Visualization of Some Digits and Their Labels**"
      ],
      "metadata": {
        "id": "cXA6Pm6KNpc7"
      }
    },
    {
      "cell_type": "code",
      "source": [
        "def visualize_images(data):\n",
        "    fig, axes = plt.subplots(nrows=2, ncols=10, figsize=(12,3),\n",
        "                             gridspec_kw={'wspace':0.04, 'hspace':0.01},\n",
        "                             squeeze=True)\n",
        "\n",
        "    for i, ax in enumerate(axes.flat):\n",
        "        ax.imshow(x_train[i], cmap='gray')\n",
        "        ax.set_xticks([]), ax.set_yticks([])\n",
        "        ax.set_title(str(y_train[i]), fontsize=10)\n",
        "\n",
        "    plt.tight_layout()\n",
        "    plt.show()\n",
        "\n",
        "visualize_images(x_train)"
      ],
      "metadata": {
        "trusted": true,
        "execution": {
          "iopub.status.busy": "2025-03-20T19:20:56.634124Z",
          "iopub.execute_input": "2025-03-20T19:20:56.634449Z",
          "iopub.status.idle": "2025-03-20T19:20:57.286096Z",
          "shell.execute_reply.started": "2025-03-20T19:20:56.634415Z",
          "shell.execute_reply": "2025-03-20T19:20:57.28525Z"
        },
        "id": "yuJHYGEKNpc7"
      },
      "outputs": [],
      "execution_count": null
    },
    {
      "cell_type": "markdown",
      "source": [
        "## **Visualizing an Image with Pixel Values**"
      ],
      "metadata": {
        "id": "-9Hfe66bNpc8"
      }
    },
    {
      "cell_type": "code",
      "source": [
        "def pixel_visualize(img):\n",
        "    fig = plt.figure(figsize=(12,12))\n",
        "    ax = fig.add_subplot(111)\n",
        "    ax.imshow(img, cmap=\"gray\")\n",
        "    width, height = img.shape\n",
        "    threshold = img.max()/2.5\n",
        "    for x in range(width):\n",
        "        for y in range(height):\n",
        "            ax.annotate(str(round(img[x][y], 2)), xy=(y,x),\n",
        "                       color='white' if img [x][y]<threshold else 'black')\n",
        "\n",
        "pixel_visualize(x_train[1000])"
      ],
      "metadata": {
        "trusted": true,
        "execution": {
          "iopub.status.busy": "2025-03-20T19:20:57.286961Z",
          "iopub.execute_input": "2025-03-20T19:20:57.287225Z",
          "iopub.status.idle": "2025-03-20T19:20:59.992586Z",
          "shell.execute_reply.started": "2025-03-20T19:20:57.287203Z",
          "shell.execute_reply": "2025-03-20T19:20:59.991675Z"
        },
        "id": "_9trdDR1Npc8"
      },
      "outputs": [],
      "execution_count": null
    },
    {
      "cell_type": "markdown",
      "source": [
        "##  **Preprocessing**"
      ],
      "metadata": {
        "id": "5_1ua-cXNpc8"
      }
    },
    {
      "cell_type": "code",
      "source": [
        "y_train[0:10]"
      ],
      "metadata": {
        "trusted": true,
        "execution": {
          "iopub.status.busy": "2025-03-20T19:20:59.993478Z",
          "iopub.execute_input": "2025-03-20T19:20:59.993827Z",
          "iopub.status.idle": "2025-03-20T19:20:59.998433Z",
          "shell.execute_reply.started": "2025-03-20T19:20:59.993777Z",
          "shell.execute_reply": "2025-03-20T19:20:59.997757Z"
        },
        "id": "PoyiOCyrNpc8"
      },
      "outputs": [],
      "execution_count": null
    },
    {
      "cell_type": "code",
      "source": [
        "y_train = to_categorical(y_train)\n",
        "y_test = to_categorical(y_test)"
      ],
      "metadata": {
        "trusted": true,
        "execution": {
          "iopub.status.busy": "2025-03-20T19:21:00.000625Z",
          "iopub.execute_input": "2025-03-20T19:21:00.000863Z",
          "iopub.status.idle": "2025-03-20T19:21:00.005182Z",
          "shell.execute_reply.started": "2025-03-20T19:21:00.000843Z",
          "shell.execute_reply": "2025-03-20T19:21:00.004598Z"
        },
        "id": "8RRFk6GPNpc9"
      },
      "outputs": [],
      "execution_count": null
    },
    {
      "cell_type": "code",
      "source": [
        "y_train[0:10]"
      ],
      "metadata": {
        "trusted": true,
        "execution": {
          "iopub.status.busy": "2025-03-20T19:21:00.006381Z",
          "iopub.execute_input": "2025-03-20T19:21:00.006588Z",
          "iopub.status.idle": "2025-03-20T19:21:00.011606Z",
          "shell.execute_reply.started": "2025-03-20T19:21:00.00657Z",
          "shell.execute_reply": "2025-03-20T19:21:00.010843Z"
        },
        "id": "51OeEWa7Npc9"
      },
      "outputs": [],
      "execution_count": null
    },
    {
      "cell_type": "code",
      "source": [
        "x_train = x_train.reshape(x_train.shape[0], 28, 28, 1)\n",
        "x_test = x_test.reshape(x_test.shape[0], 28, 28, 1)\n",
        "\n",
        "print(\"x_train shape:\", x_train.shape)\n",
        "print(\"x_test shape:\", x_test.shape)"
      ],
      "metadata": {
        "trusted": true,
        "execution": {
          "iopub.status.busy": "2025-03-20T19:21:00.01243Z",
          "iopub.execute_input": "2025-03-20T19:21:00.012674Z",
          "iopub.status.idle": "2025-03-20T19:21:00.017409Z",
          "shell.execute_reply.started": "2025-03-20T19:21:00.012656Z",
          "shell.execute_reply": "2025-03-20T19:21:00.016625Z"
        },
        "id": "Kgr5b9lWNpc9"
      },
      "outputs": [],
      "execution_count": null
    },
    {
      "cell_type": "code",
      "source": [
        "x_train = x_train.astype('float32')/255\n",
        "x_test = x_test.astype('float32')/255"
      ],
      "metadata": {
        "trusted": true,
        "execution": {
          "iopub.status.busy": "2025-03-20T19:21:00.018059Z",
          "iopub.execute_input": "2025-03-20T19:21:00.018262Z",
          "iopub.status.idle": "2025-03-20T19:21:00.130251Z",
          "shell.execute_reply.started": "2025-03-20T19:21:00.018245Z",
          "shell.execute_reply": "2025-03-20T19:21:00.129304Z"
        },
        "id": "rBqAFGHXNpc-"
      },
      "outputs": [],
      "execution_count": null
    },
    {
      "cell_type": "markdown",
      "source": [
        "# **Model Building**"
      ],
      "metadata": {
        "id": "swc9FM-ENpc_"
      }
    },
    {
      "cell_type": "code",
      "source": [
        "model = Sequential()\n",
        "\n",
        "model.add(Conv2D(32, (3,3), padding='same', activation='relu', input_shape=x_train.shape[1:]))\n",
        "model.add(Conv2D(32, (3,3), activation='relu'))\n",
        "model.add(MaxPooling2D(pool_size=(2,2)))\n",
        "model.add(BatchNormalization())\n",
        "model.add(Dropout(0.25))\n",
        "\n",
        "model.add(Conv2D(64, (3,3), padding='same', activation='relu'))\n",
        "model.add(Conv2D(64, (3,3), activation='relu'))\n",
        "model.add(MaxPooling2D(pool_size=(2,2)))\n",
        "model.add(BatchNormalization())\n",
        "model.add(Dropout(0.3))\n",
        "\n",
        "model.add(Flatten())\n",
        "model.add(Dense(512, activation='relu'))\n",
        "model.add(BatchNormalization())\n",
        "model.add(Dropout(0.5))\n",
        "model.add(Dense(num_labels, activation='softmax'))\n",
        "\n",
        "model.compile(optimizer=Adam(learning_rate=0.001),\n",
        "             loss='categorical_crossentropy',\n",
        "             metrics=[tf.keras.metrics.Precision(), tf.keras.metrics.Recall(), \"accuracy\"])"
      ],
      "metadata": {
        "trusted": true,
        "execution": {
          "iopub.status.busy": "2025-03-20T19:21:00.131157Z",
          "iopub.execute_input": "2025-03-20T19:21:00.131388Z",
          "iopub.status.idle": "2025-03-20T19:21:00.292229Z",
          "shell.execute_reply.started": "2025-03-20T19:21:00.131369Z",
          "shell.execute_reply": "2025-03-20T19:21:00.291514Z"
        },
        "id": "Gv8lJwrwNpc_"
      },
      "outputs": [],
      "execution_count": null
    },
    {
      "cell_type": "code",
      "source": [
        "model.summary()"
      ],
      "metadata": {
        "trusted": true,
        "execution": {
          "iopub.status.busy": "2025-03-20T19:21:00.293036Z",
          "iopub.execute_input": "2025-03-20T19:21:00.293287Z",
          "iopub.status.idle": "2025-03-20T19:21:00.31546Z",
          "shell.execute_reply.started": "2025-03-20T19:21:00.293267Z",
          "shell.execute_reply": "2025-03-20T19:21:00.314773Z"
        },
        "id": "7QL9yb9fNpdB"
      },
      "outputs": [],
      "execution_count": null
    },
    {
      "cell_type": "markdown",
      "source": [
        "## **Using ImageDataGenerator**"
      ],
      "metadata": {
        "id": "JwmOJjZWNpdC"
      }
    },
    {
      "cell_type": "code",
      "source": [
        "datagen = ImageDataGenerator(\n",
        "    rotation_range=20,\n",
        "    width_shift_range=0.2,\n",
        "    height_shift_range=0.2,\n",
        "    shear_range=0.2,\n",
        "    zoom_range=0.2,\n",
        "    horizontal_flip=False,\n",
        "    fill_mode='nearest'\n",
        ")\n",
        "datagen.fit(x_train)"
      ],
      "metadata": {
        "trusted": true,
        "execution": {
          "iopub.status.busy": "2025-03-20T19:21:00.316307Z",
          "iopub.execute_input": "2025-03-20T19:21:00.316612Z",
          "iopub.status.idle": "2025-03-20T19:21:00.384911Z",
          "shell.execute_reply.started": "2025-03-20T19:21:00.316578Z",
          "shell.execute_reply": "2025-03-20T19:21:00.384222Z"
        },
        "id": "0H7s-zDhNpdC"
      },
      "outputs": [],
      "execution_count": null
    },
    {
      "cell_type": "markdown",
      "source": [
        "## **EarlyStopping**"
      ],
      "metadata": {
        "id": "VQ4s-3UxNpdD"
      }
    },
    {
      "cell_type": "code",
      "source": [
        "early_stopping = EarlyStopping(monitor=\"val_loss\", patience=5, restore_best_weights=True)\n",
        "history = model.fit(datagen.flow(x_train, y_train, batch_size=512), epochs=50,\n",
        "                    validation_data=(x_test, y_test), callbacks=[early_stopping])"
      ],
      "metadata": {
        "trusted": true,
        "execution": {
          "iopub.status.busy": "2025-03-20T19:27:17.091017Z",
          "iopub.execute_input": "2025-03-20T19:27:17.091304Z",
          "iopub.status.idle": "2025-03-20T19:29:21.504532Z",
          "shell.execute_reply.started": "2025-03-20T19:27:17.091283Z",
          "shell.execute_reply": "2025-03-20T19:29:21.503566Z"
        },
        "id": "KIgN8nsFNpdD"
      },
      "outputs": [],
      "execution_count": null
    },
    {
      "cell_type": "markdown",
      "source": [
        "# **Results and Visualization of the Model**"
      ],
      "metadata": {
        "id": "0DDXrfGONpdD"
      }
    },
    {
      "cell_type": "code",
      "source": [
        "y_pred = model.predict(x_test)\n",
        "y_pred_class = np.argmax(y_pred, axis=1)\n",
        "y_true = np.argmax(y_test, axis=1)"
      ],
      "metadata": {
        "trusted": true,
        "execution": {
          "iopub.status.busy": "2025-03-20T19:29:41.401503Z",
          "iopub.execute_input": "2025-03-20T19:29:41.401872Z",
          "iopub.status.idle": "2025-03-20T19:29:42.453853Z",
          "shell.execute_reply.started": "2025-03-20T19:29:41.401842Z",
          "shell.execute_reply": "2025-03-20T19:29:42.453118Z"
        },
        "id": "FuKlXrYhNpdE"
      },
      "outputs": [],
      "execution_count": null
    },
    {
      "cell_type": "markdown",
      "source": [
        "## **Classification Report**"
      ],
      "metadata": {
        "id": "VVt6VhCfNpdE"
      }
    },
    {
      "cell_type": "code",
      "source": [
        "class_labels = ['0','1','2','3','4','5','6','7','8','9']\n",
        "report = classification_report(y_true, y_pred_class, target_names=class_labels)\n",
        "print(report)"
      ],
      "metadata": {
        "trusted": true,
        "execution": {
          "iopub.status.busy": "2025-03-20T19:29:42.698941Z",
          "iopub.execute_input": "2025-03-20T19:29:42.699231Z",
          "iopub.status.idle": "2025-03-20T19:29:42.714899Z",
          "shell.execute_reply.started": "2025-03-20T19:29:42.699199Z",
          "shell.execute_reply": "2025-03-20T19:29:42.714222Z"
        },
        "id": "_biz1s6nNpdF"
      },
      "outputs": [],
      "execution_count": null
    },
    {
      "cell_type": "markdown",
      "source": [
        "## **Train & Test Accuracy and Loss**"
      ],
      "metadata": {
        "id": "hXYotK6KNpdF"
      }
    },
    {
      "cell_type": "code",
      "source": [
        "plt.figure(figsize=(20,6))\n",
        "plt.subplot(1,2,1)\n",
        "plt.plot(history.history['accuracy'], color='b', label='Training Accuracy')\n",
        "plt.plot(history.history['val_accuracy'], color='r', label='Validation Accuracy')\n",
        "plt.legend()\n",
        "plt.xlabel('Epoch', fontsize=16)\n",
        "plt.ylabel('Accuracy', fontsize=16)\n",
        "plt.ylim([min(plt.ylim()),1])\n",
        "plt.title('Train and Test Accuracy')\n",
        "plt.grid(True)\n",
        "\n",
        "plt.subplot(1,2,2)\n",
        "plt.plot(history.history['loss'], color='b', label='Training Loss')\n",
        "plt.plot(history.history['val_loss'], color='r', label='Validation Loss')\n",
        "plt.legend()\n",
        "plt.xlabel('Epoch', fontsize=16)\n",
        "plt.ylabel('Loss', fontsize=16)\n",
        "plt.ylim([0,max(plt.ylim())])\n",
        "plt.title('Train and Test Loss')\n",
        "plt.grid(True)\n",
        "plt.show()"
      ],
      "metadata": {
        "trusted": true,
        "execution": {
          "iopub.status.busy": "2025-03-20T19:29:43.177589Z",
          "iopub.execute_input": "2025-03-20T19:29:43.177922Z",
          "iopub.status.idle": "2025-03-20T19:29:43.558937Z",
          "shell.execute_reply.started": "2025-03-20T19:29:43.177895Z",
          "shell.execute_reply": "2025-03-20T19:29:43.558066Z"
        },
        "id": "mjbSoVxbNpdG"
      },
      "outputs": [],
      "execution_count": null
    },
    {
      "cell_type": "code",
      "source": [
        "loss, precision, recall, acc=model.evaluate(x_test, y_test, verbose=False)\n",
        "print('Test Accuracy: ', acc)\n",
        "print('Test Loss: ', loss)\n",
        "print('Test Precision: ', precision)\n",
        "print('Test Recall: ', recall)"
      ],
      "metadata": {
        "trusted": true,
        "execution": {
          "iopub.status.busy": "2025-03-20T19:29:43.559957Z",
          "iopub.execute_input": "2025-03-20T19:29:43.560258Z",
          "iopub.status.idle": "2025-03-20T19:29:44.160703Z",
          "shell.execute_reply.started": "2025-03-20T19:29:43.560235Z",
          "shell.execute_reply": "2025-03-20T19:29:44.159799Z"
        },
        "id": "1TImgO1hNpdG"
      },
      "outputs": [],
      "execution_count": null
    },
    {
      "cell_type": "markdown",
      "source": [
        "# **Model Saving**"
      ],
      "metadata": {
        "id": "4Gfb44QxNpdG"
      }
    },
    {
      "cell_type": "code",
      "source": [
        "model.save('mnist_model.h5')"
      ],
      "metadata": {
        "trusted": true,
        "execution": {
          "iopub.status.busy": "2025-03-20T19:29:44.162503Z",
          "iopub.execute_input": "2025-03-20T19:29:44.162727Z",
          "iopub.status.idle": "2025-03-20T19:29:44.228189Z",
          "shell.execute_reply.started": "2025-03-20T19:29:44.162706Z",
          "shell.execute_reply": "2025-03-20T19:29:44.227304Z"
        },
        "id": "Fk1JanVONpdG"
      },
      "outputs": [],
      "execution_count": null
    },
    {
      "cell_type": "markdown",
      "source": [
        "# **Testing Results**"
      ],
      "metadata": {
        "id": "NLCXRUUJNpdH"
      }
    },
    {
      "cell_type": "code",
      "source": [
        "import random\n",
        "random = random.randint(0, x_test.shape[0])\n",
        "random"
      ],
      "metadata": {
        "trusted": true,
        "execution": {
          "iopub.status.busy": "2025-03-20T19:29:44.229579Z",
          "iopub.execute_input": "2025-03-20T19:29:44.229908Z",
          "iopub.status.idle": "2025-03-20T19:29:44.234154Z",
          "shell.execute_reply.started": "2025-03-20T19:29:44.229878Z",
          "shell.execute_reply": "2025-03-20T19:29:44.233571Z"
        },
        "id": "8M-6vJk8NpdH"
      },
      "outputs": [],
      "execution_count": null
    },
    {
      "cell_type": "code",
      "source": [
        "test_image = x_test[random]\n",
        "y_test[random]"
      ],
      "metadata": {
        "trusted": true,
        "execution": {
          "iopub.status.busy": "2025-03-20T19:29:44.234844Z",
          "iopub.execute_input": "2025-03-20T19:29:44.235079Z",
          "iopub.status.idle": "2025-03-20T19:29:44.239341Z",
          "shell.execute_reply.started": "2025-03-20T19:29:44.23505Z",
          "shell.execute_reply": "2025-03-20T19:29:44.238753Z"
        },
        "id": "8FkRxGFYNpdO"
      },
      "outputs": [],
      "execution_count": null
    },
    {
      "cell_type": "code",
      "source": [
        "plt.imshow(test_image.reshape(28,28), cmap='gray');"
      ],
      "metadata": {
        "trusted": true,
        "execution": {
          "iopub.status.busy": "2025-03-20T19:29:44.240035Z",
          "iopub.execute_input": "2025-03-20T19:29:44.240306Z",
          "iopub.status.idle": "2025-03-20T19:29:44.412705Z",
          "shell.execute_reply.started": "2025-03-20T19:29:44.240279Z",
          "shell.execute_reply": "2025-03-20T19:29:44.411987Z"
        },
        "id": "DJ9lO-KiNpdP"
      },
      "outputs": [],
      "execution_count": null
    },
    {
      "cell_type": "code",
      "source": [
        "test_data = x_test[random].reshape(1,28,28,1)\n",
        "probability = model.predict(test_data)\n",
        "probability"
      ],
      "metadata": {
        "trusted": true,
        "execution": {
          "iopub.status.busy": "2025-03-20T19:29:44.413488Z",
          "iopub.execute_input": "2025-03-20T19:29:44.413704Z",
          "iopub.status.idle": "2025-03-20T19:29:44.60772Z",
          "shell.execute_reply.started": "2025-03-20T19:29:44.413682Z",
          "shell.execute_reply": "2025-03-20T19:29:44.606865Z"
        },
        "id": "-h_2zRBxNpdP"
      },
      "outputs": [],
      "execution_count": null
    },
    {
      "cell_type": "code",
      "source": [
        "predicted_classes = np.argmax(probability)\n",
        "predicted_classes"
      ],
      "metadata": {
        "trusted": true,
        "execution": {
          "iopub.status.busy": "2025-03-20T19:29:44.60865Z",
          "iopub.execute_input": "2025-03-20T19:29:44.608969Z",
          "iopub.status.idle": "2025-03-20T19:29:44.613611Z",
          "shell.execute_reply.started": "2025-03-20T19:29:44.608947Z",
          "shell.execute_reply": "2025-03-20T19:29:44.612719Z"
        },
        "id": "ULhad2wjNpdQ"
      },
      "outputs": [],
      "execution_count": null
    },
    {
      "cell_type": "code",
      "source": [
        "print(f'Predicted class: {predicted_classes}')\n",
        "print(f'Predicted class probability value: {(np.argmax(probability, axis=-1))[0]}')\n",
        "print(f'Probability values of other classes: \\n{probability}')"
      ],
      "metadata": {
        "trusted": true,
        "execution": {
          "iopub.status.busy": "2025-03-20T19:29:44.615426Z",
          "iopub.execute_input": "2025-03-20T19:29:44.615639Z",
          "iopub.status.idle": "2025-03-20T19:29:44.62038Z",
          "shell.execute_reply.started": "2025-03-20T19:29:44.615619Z",
          "shell.execute_reply": "2025-03-20T19:29:44.619547Z"
        },
        "id": "Nh3fj3QUNpdQ"
      },
      "outputs": [],
      "execution_count": null
    },
    {
      "cell_type": "markdown",
      "source": [
        "# **Misclassified Samples**"
      ],
      "metadata": {
        "id": "YSx9DNTPNpdQ"
      }
    },
    {
      "cell_type": "code",
      "source": [
        "y_test_labels = np.argmax(y_test, axis=1)\n",
        "\n",
        "misclassified_idx = np.where(y_pred_class != y_test_labels)[0]\n",
        "\n",
        "fig, axes = plt.subplots(3, 5, figsize=(10, 6))\n",
        "fig.suptitle(\"Misclassified Samples\", fontsize=16)\n",
        "\n",
        "for i, ax in enumerate(axes.flat):\n",
        "    idx = misclassified_idx[i]\n",
        "    ax.imshow(x_test[idx].reshape(28, 28), cmap=\"gray\")\n",
        "    ax.set_title(f\"True: {y_test_labels[idx]}, Pred: {y_pred_class[idx]}\")\n",
        "    ax.axis(\"off\")\n",
        "\n",
        "plt.tight_layout()\n",
        "plt.show()"
      ],
      "metadata": {
        "trusted": true,
        "execution": {
          "iopub.status.busy": "2025-03-20T19:29:44.621325Z",
          "iopub.execute_input": "2025-03-20T19:29:44.621566Z",
          "iopub.status.idle": "2025-03-20T19:29:45.377019Z",
          "shell.execute_reply.started": "2025-03-20T19:29:44.621545Z",
          "shell.execute_reply": "2025-03-20T19:29:45.376131Z"
        },
        "id": "UskccLUhNpdR"
      },
      "outputs": [],
      "execution_count": null
    },
    {
      "cell_type": "markdown",
      "source": [
        "# **Classification Accuracy Per Digit**"
      ],
      "metadata": {
        "id": "y4f1nw8_NpdR"
      }
    },
    {
      "cell_type": "code",
      "source": [
        "num_classes = 10\n",
        "class_accuracies = []\n",
        "\n",
        "for i in range(num_classes):\n",
        "    correct = np.sum((y_test_labels == i) & (y_pred_class == i))\n",
        "    total = np.sum(y_test_labels == i)\n",
        "    accuracy = correct / total if total > 0 else 0\n",
        "    class_accuracies.append(accuracy)\n",
        "\n",
        "df = pd.DataFrame({\"Digit\": range(10), \"Accuracy\": class_accuracies})\n",
        "\n",
        "plt.figure(figsize=(8, 5))\n",
        "sns.barplot(x=\"Digit\", y=\"Accuracy\", data=df)\n",
        "plt.ylim(0, 1)\n",
        "plt.xlabel(\"Digit\")\n",
        "plt.ylabel(\"Accuracy\")\n",
        "plt.title(\"Classification Accuracy Per Digit\")\n",
        "plt.show()"
      ],
      "metadata": {
        "trusted": true,
        "execution": {
          "iopub.status.busy": "2025-03-20T19:29:49.982276Z",
          "iopub.execute_input": "2025-03-20T19:29:49.982572Z",
          "iopub.status.idle": "2025-03-20T19:29:50.153708Z",
          "shell.execute_reply.started": "2025-03-20T19:29:49.982549Z",
          "shell.execute_reply": "2025-03-20T19:29:50.152843Z"
        },
        "id": "BlorLru3NpdS"
      },
      "outputs": [],
      "execution_count": null
    },
    {
      "cell_type": "markdown",
      "source": [
        "# **Confusion Matrix**"
      ],
      "metadata": {
        "id": "0ksO9SKlNpdS"
      }
    },
    {
      "cell_type": "code",
      "source": [
        "y_pred_labels = y_pred_class\n",
        "conf_matrix = confusion_matrix(y_test_labels, y_pred_labels)\n",
        "\n",
        "plt.figure(figsize=(10, 7))\n",
        "sns.heatmap(conf_matrix, annot=True, fmt=\"d\", cmap=\"gray\", xticklabels=range(10), yticklabels=range(10))\n",
        "plt.xlabel(\"Predicted Label\")\n",
        "plt.ylabel(\"True Label\")\n",
        "plt.title(\"MNIST Confusion Matrix\")\n",
        "plt.show()"
      ],
      "metadata": {
        "trusted": true,
        "execution": {
          "iopub.status.busy": "2025-03-20T19:29:56.49384Z",
          "iopub.execute_input": "2025-03-20T19:29:56.494136Z",
          "iopub.status.idle": "2025-03-20T19:29:56.878822Z",
          "shell.execute_reply.started": "2025-03-20T19:29:56.494114Z",
          "shell.execute_reply": "2025-03-20T19:29:56.87801Z"
        },
        "id": "KtT033uhNpdS"
      },
      "outputs": [],
      "execution_count": null
    }
  ]
}